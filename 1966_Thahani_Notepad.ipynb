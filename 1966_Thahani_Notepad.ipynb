{
 "cells": [
  {
   "cell_type": "code",
   "execution_count": 1,
   "id": "e78a34fd-7720-45da-be35-3fd9549555b5",
   "metadata": {},
   "outputs": [],
   "source": [
    "from tkinter import *\n",
    "window= Tk()\n",
    "window.title(\"Notepad\")\n",
    "window.geometry(\"600x500\")\n",
    "\n",
    "txt=Text(window,width=500,height=600)\n",
    "txt.pack()\n",
    "\n",
    "def new():\n",
    "    txt.delete(1.0,END)\n",
    "\n",
    "def open():\n",
    "    from tkinter import filedialog\n",
    "    file = filedialog.askopenfilename()\n",
    "\n",
    "def save():\n",
    "    from tkinter import filedialog\n",
    "    file = filedialog.asksaveasfilename()\n",
    "\n",
    "def exit():\n",
    "    window.destroy()\n",
    "\n",
    "from tkinter import Menu\n",
    "menu=Menu(window)\n",
    "new_item1=Menu(menu,tearoff=0)\n",
    "menu.add_cascade(label=\"File\",menu=new_item1)\n",
    "new_item1.add_command(label=\"New\",command=new)\n",
    "new_item1.add_command(label=\"Open\",command=open)\n",
    "new_item1.add_command(label=\"Save\",command=save)\n",
    "new_item1.add_separator()\n",
    "new_item1.add_command(label=\"Exit\",command=exit)\n",
    "\n",
    "window.config(menu=menu)\n",
    "window.mainloop()"
   ]
  },
  {
   "cell_type": "code",
   "execution_count": null,
   "id": "d18a3f27-34ea-4ab3-b75e-cf517134a880",
   "metadata": {},
   "outputs": [],
   "source": []
  }
 ],
 "metadata": {
  "kernelspec": {
   "display_name": "Python 3 (ipykernel)",
   "language": "python",
   "name": "python3"
  },
  "language_info": {
   "codemirror_mode": {
    "name": "ipython",
    "version": 3
   },
   "file_extension": ".py",
   "mimetype": "text/x-python",
   "name": "python",
   "nbconvert_exporter": "python",
   "pygments_lexer": "ipython3",
   "version": "3.12.7"
  }
 },
 "nbformat": 4,
 "nbformat_minor": 5
}
